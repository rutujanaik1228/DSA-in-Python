{
  "nbformat": 4,
  "nbformat_minor": 0,
  "metadata": {
    "colab": {
      "provenance": []
    },
    "kernelspec": {
      "name": "python3",
      "display_name": "Python 3"
    },
    "language_info": {
      "name": "python"
    }
  },
  "cells": [
    {
      "cell_type": "markdown",
      "source": [
        "**Move Zeroes**\n",
        "\n",
        "Given an integer array nums, move all 0's to the end of it while maintaining the relative order of the non-zero elements.\n",
        "\n",
        "Note that you must do this in-place without making a copy of the array.\n",
        "\n",
        "Example 1:\n",
        "Input: nums = [0,1,0,3,12]\n",
        "Output: [1,3,12,0,0]\n",
        "\n",
        "Example 2:\n",
        "Input: nums = [0]\n",
        "Output: [0]\n",
        "\n",
        "Constraints:\n",
        "\n",
        "(a) 1 <= nums.length <= 10^4\n",
        "\n",
        "(b) -2^31 <= nums[i] <= 2^31 - 1\n",
        "\n",
        "Note: Create a GitHub file for the solution and add the file link the the answer section below.\n"
      ],
      "metadata": {
        "id": "ChIJr_CbJoGT"
      }
    },
    {
      "cell_type": "code",
      "execution_count": 17,
      "metadata": {
        "id": "P-dNTTGVJjvv"
      },
      "outputs": [],
      "source": [
        "def moveZeroes(nums):\n",
        "  l=len(nums)\n",
        "  j=0\n",
        "  for i in range (l):\n",
        "    if nums[i]!=0:\n",
        "      nums[i],nums[j]=nums[j],nums[i]\n",
        "      j+=1\n",
        "  return nums"
      ]
    },
    {
      "cell_type": "code",
      "source": [
        "moveZeroes([0,1,0,3,12])"
      ],
      "metadata": {
        "id": "NZrG8VjoRDpK",
        "colab": {
          "base_uri": "https://localhost:8080/"
        },
        "outputId": "330d09f0-043e-4e16-e576-63d5ebc79861"
      },
      "execution_count": 18,
      "outputs": [
        {
          "output_type": "execute_result",
          "data": {
            "text/plain": [
              "[1, 3, 12, 0, 0]"
            ]
          },
          "metadata": {},
          "execution_count": 18
        }
      ]
    }
  ]
}